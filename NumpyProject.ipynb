{
 "cells": [
  {
   "cell_type": "code",
   "execution_count": 111,
   "id": "c782a9d0-9381-4aca-a4ad-967df4cda62b",
   "metadata": {},
   "outputs": [],
   "source": [
    "import numpy as np\n",
    "import pandas as pd\n",
    "import seaborn as sns\n",
    "import matplotlib.pyplot as plt"
   ]
  },
  {
   "cell_type": "code",
   "execution_count": 112,
   "id": "9b8405b9-7f5f-414d-a7e4-91b69bdaca8f",
   "metadata": {},
   "outputs": [
    {
     "data": {
      "text/plain": [
       "array([[1., 1., 1., 1., 1.],\n",
       "       [1., 1., 1., 1., 1.],\n",
       "       [1., 1., 1., 1., 1.],\n",
       "       [1., 1., 1., 1., 1.],\n",
       "       [1., 1., 1., 1., 1.]])"
      ]
     },
     "execution_count": 112,
     "metadata": {},
     "output_type": "execute_result"
    }
   ],
   "source": [
    "array_5x5=np.ones((5,5))\n",
    "array_5x5"
   ]
  },
  {
   "cell_type": "code",
   "execution_count": 113,
   "id": "6416781c-2ea9-4c2a-949a-5c16571ec51f",
   "metadata": {},
   "outputs": [],
   "source": [
    "array_5x5[1:4,1:4]=np.zeros((3,3))"
   ]
  },
  {
   "cell_type": "code",
   "execution_count": 114,
   "id": "cce2496f-0f24-42fd-a9b5-6a7a35d07082",
   "metadata": {},
   "outputs": [
    {
     "data": {
      "text/plain": [
       "array([[1., 1., 1., 1., 1.],\n",
       "       [1., 0., 0., 0., 1.],\n",
       "       [1., 0., 0., 0., 1.],\n",
       "       [1., 0., 0., 0., 1.],\n",
       "       [1., 1., 1., 1., 1.]])"
      ]
     },
     "execution_count": 114,
     "metadata": {},
     "output_type": "execute_result"
    }
   ],
   "source": [
    "array_5x5"
   ]
  },
  {
   "cell_type": "code",
   "execution_count": 115,
   "id": "6ce9a57c-7ef7-45b7-bf67-b8efe9fcbee3",
   "metadata": {},
   "outputs": [],
   "source": [
    "array_5x5[2,2]=9"
   ]
  },
  {
   "cell_type": "code",
   "execution_count": 116,
   "id": "45f4e8c0-06fa-44d6-b309-60a50cc4bbbc",
   "metadata": {},
   "outputs": [
    {
     "data": {
      "text/plain": [
       "array([[1., 1., 1., 1., 1.],\n",
       "       [1., 0., 0., 0., 1.],\n",
       "       [1., 0., 9., 0., 1.],\n",
       "       [1., 0., 0., 0., 1.],\n",
       "       [1., 1., 1., 1., 1.]])"
      ]
     },
     "execution_count": 116,
     "metadata": {},
     "output_type": "execute_result"
    }
   ],
   "source": [
    "array_5x5"
   ]
  },
  {
   "cell_type": "markdown",
   "id": "488887b1-c3ae-494c-a42c-9f89f778bed6",
   "metadata": {},
   "source": [
    "<h1>Making dataset:</h1>"
   ]
  },
  {
   "cell_type": "code",
   "execution_count": 117,
   "id": "f094de10-3d03-482e-a02f-671059c23103",
   "metadata": {},
   "outputs": [],
   "source": [
    "# data_english=np.random.randint(14,100,150)\n",
    "# data_science=np.random.randint(3,99,150)\n",
    "# data_math=np.random.randint(17,100,150)\n",
    "# data_com=np.random.randint(0,100,150)\n",
    "# data_all_subjects=np.column_stack((data_english,data_math,data_science,data_com))\n",
    "# df=pd.DataFrame(data_all_subjects,columns=['english','math','science','computer'])\n",
    "# data='data_all_subjects.csv'\n",
    "# df.to_csv(data,index=False)"
   ]
  },
  {
   "cell_type": "markdown",
   "id": "1ee595b7-0a93-4d0f-be26-64a4887f3268",
   "metadata": {},
   "source": [
    "<h1>Main analysis:</h1>"
   ]
  },
  {
   "cell_type": "code",
   "execution_count": 118,
   "id": "70501471-482c-4ccc-a0c6-8a5a3caafde4",
   "metadata": {},
   "outputs": [
    {
     "data": {
      "text/plain": [
       "array([[23., 36., 36., 17.],\n",
       "       [43., 54., 56., 27.],\n",
       "       [18., 42., 29., 20.],\n",
       "       [29., 82., 46., 44.],\n",
       "       [46., 68., 92., 35.],\n",
       "       [63., 37., 16., 59.],\n",
       "       [67., 44., 24., 45.],\n",
       "       [47., 38., 47., 12.],\n",
       "       [35., 75., 25., 65.],\n",
       "       [41., 24., 58., 14.],\n",
       "       [14., 28., 34., 24.],\n",
       "       [91., 23.,  4., 88.],\n",
       "       [32., 23., 23., 56.],\n",
       "       [90., 57., 80., 74.],\n",
       "       [78., 78., 72., 39.],\n",
       "       [34., 99., 97.,  9.],\n",
       "       [78., 59., 92., 65.],\n",
       "       [66., 95., 98.,  4.],\n",
       "       [25., 86., 47., 23.],\n",
       "       [31., 57.,  8.,  1.],\n",
       "       [97., 60., 38., 16.],\n",
       "       [94., 40., 27., 70.],\n",
       "       [24., 96., 31.,  4.],\n",
       "       [96., 26., 67., 33.],\n",
       "       [23., 99., 97., 27.],\n",
       "       [46., 32., 82., 50.],\n",
       "       [31., 58., 81., 57.],\n",
       "       [99., 48., 42.,  8.],\n",
       "       [19., 35., 20., 77.],\n",
       "       [27., 21., 12., 46.],\n",
       "       [85., 27., 43., 47.],\n",
       "       [55., 29., 27., 24.],\n",
       "       [31., 38., 52., 85.],\n",
       "       [52., 68., 12.,  3.],\n",
       "       [60., 27., 80., 72.],\n",
       "       [34., 82., 95., 48.],\n",
       "       [28., 48., 93., 78.],\n",
       "       [64., 21., 84.,  8.],\n",
       "       [65., 35., 59., 80.],\n",
       "       [52., 72., 59., 42.],\n",
       "       [75., 29., 81., 39.],\n",
       "       [64., 24., 89., 84.],\n",
       "       [90., 87., 37., 51.],\n",
       "       [82., 49., 94., 35.],\n",
       "       [56., 43., 54., 61.],\n",
       "       [57., 41., 77., 53.],\n",
       "       [30., 58., 32., 66.],\n",
       "       [86., 43., 85., 99.],\n",
       "       [16., 42., 47., 96.],\n",
       "       [77., 45., 69., 65.],\n",
       "       [67., 31., 83., 75.],\n",
       "       [96., 41., 44., 20.],\n",
       "       [94., 46., 83.,  0.],\n",
       "       [21., 35., 57., 57.],\n",
       "       [46., 17., 44.,  9.],\n",
       "       [43., 56., 25., 55.],\n",
       "       [90., 74., 28., 55.],\n",
       "       [93., 78., 80., 20.],\n",
       "       [74., 80., 33., 87.],\n",
       "       [98., 24., 25., 74.],\n",
       "       [39., 59., 81., 94.],\n",
       "       [69., 55., 71., 74.],\n",
       "       [38., 87., 12., 14.],\n",
       "       [73., 99., 29., 71.],\n",
       "       [28., 95., 51., 84.],\n",
       "       [31., 80., 55., 23.],\n",
       "       [63., 25., 49., 41.],\n",
       "       [38., 26.,  7.,  4.],\n",
       "       [16., 75., 63., 19.],\n",
       "       [28., 43., 93., 20.],\n",
       "       [49., 69., 77., 52.],\n",
       "       [50., 64., 46., 42.],\n",
       "       [99., 26., 13., 51.],\n",
       "       [55., 73., 15.,  5.],\n",
       "       [42., 73., 90., 80.],\n",
       "       [54., 86., 22., 89.],\n",
       "       [91., 73., 96., 86.],\n",
       "       [76., 35., 50., 85.],\n",
       "       [33., 34., 48., 33.],\n",
       "       [86., 17., 62., 10.],\n",
       "       [26., 76., 62., 21.],\n",
       "       [38., 40., 79., 96.],\n",
       "       [90., 60., 53., 67.],\n",
       "       [56., 80., 82., 11.],\n",
       "       [94., 35.,  7.,  5.],\n",
       "       [72., 34., 60., 75.],\n",
       "       [67., 46., 22., 10.],\n",
       "       [81., 37.,  5., 17.],\n",
       "       [77., 25., 20., 15.],\n",
       "       [27., 34., 97., 55.],\n",
       "       [16., 63., 54., 49.],\n",
       "       [94., 36., 88., 12.],\n",
       "       [55., 50., 38., 21.],\n",
       "       [97., 44., 38., 46.],\n",
       "       [80., 69., 14., 69.],\n",
       "       [93., 17., 25., 20.],\n",
       "       [68., 98., 97., 55.],\n",
       "       [33., 62., 11.,  5.],\n",
       "       [61., 98., 93.,  8.],\n",
       "       [22., 63., 60., 24.],\n",
       "       [56., 89., 37., 68.],\n",
       "       [35., 84., 63., 16.],\n",
       "       [64., 36., 60., 88.],\n",
       "       [64., 46., 56., 34.],\n",
       "       [15., 81., 71., 91.],\n",
       "       [63., 87., 77., 31.],\n",
       "       [35., 30., 30., 25.],\n",
       "       [35., 19., 45., 81.],\n",
       "       [50., 98., 44., 10.],\n",
       "       [59., 23., 35., 17.],\n",
       "       [67., 74., 82., 80.],\n",
       "       [58., 42., 85., 13.],\n",
       "       [25., 66., 73., 30.],\n",
       "       [97., 25., 76., 41.],\n",
       "       [49., 91., 64., 48.],\n",
       "       [14., 64., 66., 42.],\n",
       "       [49., 81., 35., 82.],\n",
       "       [59., 54., 87., 37.],\n",
       "       [68., 40., 91., 44.],\n",
       "       [18., 40.,  8., 13.],\n",
       "       [36., 52., 64., 65.],\n",
       "       [62., 24., 79., 56.],\n",
       "       [59., 79., 33., 52.],\n",
       "       [32., 85., 59., 15.],\n",
       "       [15., 97., 76.,  6.],\n",
       "       [32., 67., 97., 67.],\n",
       "       [43., 70., 89., 37.],\n",
       "       [62., 80., 53., 53.],\n",
       "       [45., 90., 38., 89.],\n",
       "       [64., 21., 13., 19.],\n",
       "       [74., 63., 89.,  2.],\n",
       "       [20., 51.,  7.,  3.],\n",
       "       [35., 51., 46., 87.],\n",
       "       [26., 41., 97., 90.],\n",
       "       [49., 98., 16., 17.],\n",
       "       [21., 98., 48.,  6.],\n",
       "       [96., 77., 22., 53.],\n",
       "       [49., 55., 46., 43.],\n",
       "       [84., 44., 50., 26.],\n",
       "       [36., 33., 18., 52.],\n",
       "       [83., 56., 69., 42.],\n",
       "       [50., 89., 88., 42.],\n",
       "       [88., 66., 95., 92.],\n",
       "       [53., 32., 31., 27.],\n",
       "       [63., 72., 21., 57.],\n",
       "       [34., 26., 91., 29.],\n",
       "       [34., 34., 67., 75.],\n",
       "       [57., 66., 12., 61.],\n",
       "       [87., 89., 45., 59.],\n",
       "       [98., 86., 73.,  3.]])"
      ]
     },
     "execution_count": 118,
     "metadata": {},
     "output_type": "execute_result"
    }
   ],
   "source": [
    "data=np.loadtxt('data_all_subjects.csv',skiprows=1,delimiter=',')\n",
    "data"
   ]
  },
  {
   "cell_type": "code",
   "execution_count": 119,
   "id": "625e26d3-78ca-4bc7-a1e6-c1e5c0074a17",
   "metadata": {},
   "outputs": [
    {
     "data": {
      "text/plain": [
       "array([17., 27., 20., 44., 35., 59., 45., 12., 65., 14., 24., 88., 56.,\n",
       "       74., 39.,  9., 65.,  4., 23.,  1., 16., 70.,  4., 33., 27., 50.,\n",
       "       57.,  8., 77., 46., 47., 24., 85.,  3., 72., 48., 78.,  8., 80.,\n",
       "       42., 39., 84., 51., 35., 61., 53., 66., 99., 96., 65., 75., 20.,\n",
       "        0., 57.,  9., 55., 55., 20., 87., 74., 94., 74., 14., 71., 84.,\n",
       "       23., 41.,  4., 19., 20., 52., 42., 51.,  5., 80., 89., 86., 85.,\n",
       "       33., 10., 21., 96., 67., 11.,  5., 75., 10., 17., 15., 55., 49.,\n",
       "       12., 21., 46., 69., 20., 55.,  5.,  8., 24., 68., 16., 88., 34.,\n",
       "       91., 31., 25., 81., 10., 17., 80., 13., 30., 41., 48., 42., 82.,\n",
       "       37., 44., 13., 65., 56., 52., 15.,  6., 67., 37., 53., 89., 19.,\n",
       "        2.,  3., 87., 90., 17.,  6., 53., 43., 26., 52., 42., 42., 92.,\n",
       "       27., 57., 29., 75., 61., 59.,  3.])"
      ]
     },
     "execution_count": 119,
     "metadata": {},
     "output_type": "execute_result"
    }
   ],
   "source": [
    "english,math,science,com=data.T\n",
    "com"
   ]
  },
  {
   "cell_type": "code",
   "execution_count": 120,
   "id": "98aa3660-cbcd-4237-a501-32055bc56404",
   "metadata": {},
   "outputs": [
    {
     "name": "stdout",
     "output_type": "stream",
     "text": [
      "[112. 180. 109. 201. 241. 175. 180. 144. 200. 137. 100. 206. 134. 301.\n",
      " 267. 239. 294. 263. 181.  97. 211. 231. 155. 222. 246. 210. 227. 197.\n",
      " 151. 106. 202. 135. 206. 135. 239. 259. 247. 177. 239. 225. 224. 261.\n",
      " 265. 260. 214. 228. 186. 313. 201. 256. 256. 201. 223. 170. 116. 179.\n",
      " 247. 271. 274. 221. 273. 269. 151. 272. 258. 189. 178.  75. 173. 184.\n",
      " 247. 202. 189. 148. 285. 251. 346. 246. 148. 175. 185. 253. 270. 229.\n",
      " 141. 241. 145. 140. 137. 213. 182. 230. 164. 225. 232. 155. 318. 111.\n",
      " 260. 169. 250. 198. 248. 200. 258. 258. 120. 180. 202. 134. 303. 198.\n",
      " 194. 239. 252. 186. 247. 237. 243.  79. 217. 221. 223. 191. 194. 263.\n",
      " 239. 248. 262. 117. 228.  81. 219. 254. 180. 173. 248. 193. 204. 139.\n",
      " 250. 269. 341. 143. 213. 180. 210. 196. 280. 260.]\n"
     ]
    },
    {
     "data": {
      "image/png": "[encoded data removed]",
      "text/plain": [
       "<Figure size 640x480 with 1 Axes>"
      ]
     },
     "metadata": {},
     "output_type": "display_data"
    }
   ],
   "source": [
    "total_marks=np.sum(data,axis=1)\n",
    "print(total_marks)\n",
    "\n",
    "total_marks_percentage=total_marks/4\n",
    "topper_rollno = total_marks.argmax()\n",
    "\n",
    "\n",
    "sorted_index=total_marks.argsort()#this gives the index of the ascendinly(smallest to largest) sorted values\n",
    "\n",
    "sorted_index=sorted_index[::-1]#reversing this because i need the index of the largest to smallest values\n",
    "\n",
    "top_ten_sorted_index=sorted_index[:10]\n",
    "\n",
    "\n",
    "\n",
    "total_marks.sort()#sorts the data in increasing order(small to large)\n",
    "sorted_total_marks=total_marks[::-1]#making it in decreasing order by reversing it(large to small)\n",
    "top_ten_total_marks=sorted_total_marks[:10]#slicing top 10 values from the sorted total marks\n",
    "\n",
    "\n",
    "ax=sns.barplot(x=top_ten_sorted_index,y=top_ten_total_marks)\n",
    "for bars in ax.containers:\n",
    "    ax.bar_label(bars)\n",
    "plt.xlabel('Rollno.')\n",
    "plt.ylabel('Marks')\n",
    "plt.show()\n",
    "\n",
    "\n",
    "\n"
   ]
  },
  {
   "cell_type": "code",
   "execution_count": 121,
   "id": "4d4d2525-1657-4e5e-b51f-036fdea241dd",
   "metadata": {},
   "outputs": [
    {
     "name": "stdout",
     "output_type": "stream",
     "text": [
      "[28.   45.   27.25 50.25 60.25 43.75 45.   36.   50.   34.25 25.   51.5\n",
      " 33.5  75.25 66.75 59.75 73.5  65.75 45.25 24.25 52.75 57.75 38.75 55.5\n",
      " 61.5  52.5  56.75 49.25 37.75 26.5  50.5  33.75 51.5  33.75 59.75 64.75\n",
      " 61.75 44.25 59.75 56.25 56.   65.25 66.25 65.   53.5  57.   46.5  78.25\n",
      " 50.25 64.   64.   50.25 55.75 42.5  29.   44.75 61.75 67.75 68.5  55.25\n",
      " 68.25 67.25 37.75 68.   64.5  47.25 44.5  18.75 43.25 46.   61.75 50.5\n",
      " 47.25 37.   71.25 62.75 86.5  61.5  37.   43.75 46.25 63.25 67.5  57.25\n",
      " 35.25 60.25 36.25 35.   34.25 53.25 45.5  57.5  41.   56.25 58.   38.75\n",
      " 79.5  27.75 65.   42.25 62.5  49.5  62.   50.   64.5  64.5  30.   45.\n",
      " 50.5  33.5  75.75 49.5  48.5  59.75 63.   46.5  61.75 59.25 60.75 19.75\n",
      " 54.25 55.25 55.75 47.75 48.5  65.75 59.75 62.   65.5  29.25 57.   20.25\n",
      " 54.75 63.5  45.   43.25 62.   48.25 51.   34.75 62.5  67.25 85.25 35.75\n",
      " 53.25 45.   52.5  49.   70.   65.  ]\n"
     ]
    },
    {
     "data": {
      "image/png": "[encoded data removed]",
      "text/plain": [
       "<Figure size 640x480 with 1 Axes>"
      ]
     },
     "metadata": {},
     "output_type": "display_data"
    }
   ],
   "source": [
    "\n",
    "print(total_marks_percentage)\n",
    "\n",
    "sorted_index=total_marks_percentage.argsort()#this gives the index of the ascendinly(smallest to largest) sorted values\n",
    "sorted_index=sorted_index[::-1]#reversing this because i need the index of the largest to smallest values\n",
    "top_ten_sorted_index=sorted_index[:10]\n",
    "\n",
    "\n",
    "total_marks_percentage.sort()\n",
    "sorted_total_marks_percentage=total_marks_percentage[::-1]\n",
    "\n",
    "\n",
    "top_ten_percentage=sorted_total_marks_percentage[:10]\n",
    "\n",
    "plt.title(\"Percentage of the top ten student in examination\")\n",
    "ax=sns.barplot(x=top_ten_sorted_index,y=top_ten_percentage)\n",
    "\n",
    "for bars in ax.containers:\n",
    "    ax.bar_label(bars)\n",
    "plt.xlabel('Rollno.')\n",
    "plt.ylabel('Percentage')\n",
    "plt.show()\n",
    "    "
   ]
  },
  {
   "cell_type": "code",
   "execution_count": 122,
   "id": "f9416df1-8870-48ab-a071-96094d7a5abe",
   "metadata": {},
   "outputs": [
    {
     "name": "stdout",
     "output_type": "stream",
     "text": [
      "Total marks in computer by all students : 6571.0\n",
      "Total marks in math by all students : 8333.0\n",
      "Total marks in english by all students : 8260.0\n",
      "Total marks in science by all students : 8104.0\n",
      "\n",
      "\n"
     ]
    },
    {
     "data": {
      "image/png": "[encoded data removed]",
      "text/plain": [
       "<Figure size 640x480 with 1 Axes>"
      ]
     },
     "metadata": {},
     "output_type": "display_data"
    }
   ],
   "source": [
    "total_com=com.sum()\n",
    "total_math=math.sum()\n",
    "total_english=english.sum()\n",
    "total_science=science.sum()\n",
    "\n",
    "print('Total marks in computer by all students :',total_com)\n",
    "print('Total marks in math by all students :',total_math)\n",
    "print('Total marks in english by all students :',total_english)\n",
    "print('Total marks in science by all students :',total_science)\n",
    "\n",
    "subjects=['Computer','Math','English','Science']\n",
    "total_marks_each_subject=[total_com,total_math,total_english,total_science]\n",
    "\n",
    "print()\n",
    "print()\n",
    "\n",
    "plt.title(\"Total marks obtained by each student in each subject\")\n",
    "ax=sns.barplot(x=subjects,y=total_marks_each_subject)\n",
    "for bars in ax.containers:\n",
    "    ax.bar_label(bars)\n",
    "plt.xlabel(\"Subjects\")\n",
    "plt.ylabel(\"Total marks obtained by all students in each subject\")\n",
    "plt.show()\n",
    "    \n",
    "\n"
   ]
  },
  {
   "cell_type": "code",
   "execution_count": 123,
   "id": "7d860590-6f10-4563-b028-92eb6acd935e",
   "metadata": {},
   "outputs": [
    {
     "name": "stdout",
     "output_type": "stream",
     "text": [
      "The highest marks obtained in the examination is 346.0 out of 400 by roll number 76 with the percentage 86.5\n",
      "So, we can conculde that most of the students are weak in Computer\n"
     ]
    }
   ],
   "source": [
    "print(f'The highest marks obtained in the examination is {total_marks.max()} out of 400 by roll number {topper_rollno} with the percentage {total_marks_percentage.max()}')\n",
    "index_of_least_subject=total_marks_each_subject.index(min(total_marks_each_subject))\n",
    "print(f'So, we can conculde that most of the students are weak in {subjects[index_of_least_subject]}')"
   ]
  },
  {
   "cell_type": "markdown",
   "id": "feb6a28a-8f03-43d1-8095-56898d04be6e",
   "metadata": {},
   "source": [
    "<h1>Analysis by Kaustuv Pokharel ..........</h1>"
   ]
  }
 ],
 "metadata": {
  "kernelspec": {
   "display_name": "Python 3 (ipykernel)",
   "language": "python",
   "name": "python3"
  },
  "language_info": {
   "codemirror_mode": {
    "name": "ipython",
    "version": 3
   },
   "file_extension": ".py",
   "mimetype": "text/x-python",
   "name": "python",
   "nbconvert_exporter": "python",
   "pygments_lexer": "ipython3",
   "version": "3.12.2"
  }
 },
 "nbformat": 4,
 "nbformat_minor": 5
}
